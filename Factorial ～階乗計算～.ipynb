{
 "cells": [
  {
   "cell_type": "code",
   "execution_count": 2,
   "metadata": {},
   "outputs": [
    {
     "data": {
      "text/plain": [
       "120"
      ]
     },
     "execution_count": 2,
     "metadata": {},
     "output_type": "execute_result"
    }
   ],
   "source": [
    "# 再起処理でやってみた\n",
    "def fact1(n):\n",
    "    if n <= 1:\n",
    "        return 1\n",
    "    return n * fact1(n - 1) # fact1関数を常時更新している\n",
    "\n",
    "fact1(5)"
   ]
  },
  {
   "cell_type": "code",
   "execution_count": 3,
   "metadata": {},
   "outputs": [
    {
     "data": {
      "text/plain": [
       "5040"
      ]
     },
     "execution_count": 3,
     "metadata": {},
     "output_type": "execute_result"
    }
   ],
   "source": [
    "# 上記プログラムを今度は繰り返し処理で行う\n",
    "def fact2(n):\n",
    "    total = 1\n",
    "    # nから１までの数をマイナス１ずつ更新する。\n",
    "    for i in range(n, 1, -1):\n",
    "        total *= i\n",
    "    return total\n",
    "\n",
    "fact2(7)\n",
    "        "
   ]
  }
 ],
 "metadata": {
  "kernelspec": {
   "display_name": "Python 3",
   "language": "python",
   "name": "python3"
  },
  "language_info": {
   "codemirror_mode": {
    "name": "ipython",
    "version": 3
   },
   "file_extension": ".py",
   "mimetype": "text/x-python",
   "name": "python",
   "nbconvert_exporter": "python",
   "pygments_lexer": "ipython3",
   "version": "3.7.1"
  }
 },
 "nbformat": 4,
 "nbformat_minor": 2
}
