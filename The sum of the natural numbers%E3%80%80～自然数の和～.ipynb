{
 "cells": [
  {
   "cell_type": "code",
   "execution_count": 5,
   "metadata": {},
   "outputs": [
    {
     "data": {
      "text/plain": [
       "5050"
      ]
     },
     "execution_count": 5,
     "metadata": {},
     "output_type": "execute_result"
    }
   ],
   "source": [
    "# 再起処理でやってみた\n",
    "\n",
    "def sum(n):\n",
    "    if n <= 0:  # nがゼロになったら処理を終了する。\n",
    "        return n\n",
    "    return n + sum(n - 1) # sum関数を更新し続ける。\n",
    "\n",
    "sum(100)"
   ]
  },
  {
   "cell_type": "code",
   "execution_count": 6,
   "metadata": {},
   "outputs": [
    {
     "data": {
      "text/plain": [
       "5050"
      ]
     },
     "execution_count": 6,
     "metadata": {},
     "output_type": "execute_result"
    }
   ],
   "source": [
    "# 繰り返し処理でも実装\n",
    "\n",
    "def sum2(n):\n",
    "    total = 0\n",
    "    for i in range(n, 1, -1):\n",
    "        total += i\n",
    "    return total\n",
    "\n",
    "sum(100)"
   ]
  }
 ],
 "metadata": {
  "kernelspec": {
   "display_name": "Python 3",
   "language": "python",
   "name": "python3"
  },
  "language_info": {
   "codemirror_mode": {
    "name": "ipython",
    "version": 3
   },
   "file_extension": ".py",
   "mimetype": "text/x-python",
   "name": "python",
   "nbconvert_exporter": "python",
   "pygments_lexer": "ipython3",
   "version": "3.7.1"
  }
 },
 "nbformat": 4,
 "nbformat_minor": 2
}
