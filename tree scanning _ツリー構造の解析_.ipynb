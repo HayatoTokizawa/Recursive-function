{
 "cells": [
  {
   "cell_type": "code",
   "execution_count": 10,
   "metadata": {},
   "outputs": [],
   "source": [
    "# 今回使うツリー\n",
    "schema = [\n",
    "  'a',\n",
    "  [\n",
    "    'b',\n",
    "    [\n",
    "      ['c'],\n",
    "      'd',\n",
    "      ['e', 'f'],\n",
    "    ],\n",
    "    'g',\n",
    "    ['h'],\n",
    "    'i',\n",
    "  ],\n",
    "  [\n",
    "    'j',\n",
    "    ['k', 'l'],\n",
    "    'm',\n",
    "    ['n', 'o'],\n",
    "  ],\n",
    "  'p'\n",
    "]"
   ]
  },
  {
   "cell_type": "code",
   "execution_count": 17,
   "metadata": {},
   "outputs": [],
   "source": [
    "# 深さ優先　再帰関数\n",
    "# 深さ優先とは階層を掘り進めて行き止まりにぶつかったら戻るという方法を繰り返す走査方法\n",
    "def walk1(schema):\n",
    "    for e in schema:\n",
    "#　あるオブジェクトが特定のクラスのインスタンスかどうかをチェックする。isinstance(object, class)\n",
    "        if isinstance(e, list):\n",
    "            walk1(e)\n",
    "        else:\n",
    "            print(e)\n",
    "\n",
    "#walk1(schema)"
   ]
  },
  {
   "cell_type": "code",
   "execution_count": 16,
   "metadata": {},
   "outputs": [],
   "source": [
    "# 深さ優先 繰り返し処理\n",
    "def walk2(schema):\n",
    "    stack = []\n",
    "    it = iter(schema)\n",
    "    while True:\n",
    "        for e in it:\n",
    "# eがリストのインスタンス（具体例）であるとき、stackにitを加える。\n",
    "            if isinstance(e, list):\n",
    "                stack.append(it)\n",
    "                it = iter(e)\n",
    "                break\n",
    "            else:\n",
    "                print(e)\n",
    "        else:\n",
    "            if stack:\n",
    "                it = stack.pop()\n",
    "            else:\n",
    "                break\n",
    "\n",
    "#walk2(schema)"
   ]
  },
  {
   "cell_type": "code",
   "execution_count": 15,
   "metadata": {},
   "outputs": [],
   "source": [
    "# 幅優先探索　階層の浅い順に評価する走査方法\n",
    "# 再帰関数\n",
    "\n",
    "def walk3(schema):\n",
    "    queue = []\n",
    "    def _walk3(schema):\n",
    "        for e in schema:\n",
    "            if isinstance(e, list):\n",
    "                queue.append(e)\n",
    "            else:\n",
    "                print(e)\n",
    "        while queue:\n",
    "            _walk3(queue.pop(0))\n",
    "    return _walk3(schema)\n",
    "\n",
    "#walk3(schema)"
   ]
  },
  {
   "cell_type": "code",
   "execution_count": 14,
   "metadata": {},
   "outputs": [],
   "source": [
    "# 幅優先探索　階層の浅い順に評価する走査方法\n",
    "# 繰り返し処理\n",
    "\n",
    "def walk4(schema):\n",
    "    queue = [iter(schema)]\n",
    "    while queue:\n",
    "        it = queue.pop(0)\n",
    "        for e in it:\n",
    "            if isinstance(e, list):\n",
    "                queue.append(iter(e))\n",
    "            else:\n",
    "                print(e)\n",
    "                \n",
    "#walk4(schema)"
   ]
  }
 ],
 "metadata": {
  "kernelspec": {
   "display_name": "Python 3",
   "language": "python",
   "name": "python3"
  },
  "language_info": {
   "codemirror_mode": {
    "name": "ipython",
    "version": 3
   },
   "file_extension": ".py",
   "mimetype": "text/x-python",
   "name": "python",
   "nbconvert_exporter": "python",
   "pygments_lexer": "ipython3",
   "version": "3.7.1"
  }
 },
 "nbformat": 4,
 "nbformat_minor": 2
}
